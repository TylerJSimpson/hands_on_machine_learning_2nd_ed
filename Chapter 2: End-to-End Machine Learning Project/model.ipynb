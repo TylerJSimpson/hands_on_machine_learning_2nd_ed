{
 "cells": [
  {
   "cell_type": "markdown",
   "id": "d89b7cc1",
   "metadata": {},
   "source": [
    "# End-to-End Machine Learning Project"
   ]
  },
  {
   "cell_type": "markdown",
   "id": "ac85a0da",
   "metadata": {},
   "source": [
    "## Appendix\n",
    "\n",
    "1. [Frame the Problem and Look at the Big Picture](#frame-the-problem-and-look-at-the-big-picture)\n",
    "2. [Get the Data](#get-the-data)\n",
    "3. [Explore the Data](#explore-the-data)\n",
    "4. [Prepare the Data](#prepare-the-data)\n",
    "5. [Shortlist Promising Models](#shortlist-promising-models)\n",
    "6. [Fine-Tune the System](#fine-tune-the-system)\n",
    "7. [Present Your Solution](#present-your-solution)\n",
    "8. [Launch](#launch)"
   ]
  },
  {
   "cell_type": "markdown",
   "id": "a78f1438",
   "metadata": {},
   "source": [
    "## Frame the Problem and Look at the Big Picture"
   ]
  },
  {
   "cell_type": "markdown",
   "id": "8f7eab15",
   "metadata": {},
   "source": [
    "### Frame the Problem\n",
    "\n",
    "We have been tasked with using the California census data to build a model of housing prices in the state.\n",
    "\n",
    "The model should output a district's median housing price. This output will be used as input for a downstream model.\n",
    "\n",
    "The current solution involves experts manually running complex rules to determine the district's median housing prices. Often they have inaccurate measurements (off by >20%).\n",
    "\n",
    "We are tasked with predicting a continuous single value using labeled data with multiple features that is not in the form of a stream (live). This means we will be looking at a multiple univariate regression with batch learning."
   ]
  },
  {
   "cell_type": "markdown",
   "id": "35a694fd",
   "metadata": {},
   "source": [
    "### Select a Performance Measure\n",
    "\n",
    "For regression we tend to choose Root Mean Square Error (RMSE) or Mean Absolute Error (MAE) for our performance measure.\n",
    "\n",
    "Both measure the distance between two vectors. RMSE corresponds to the l2 norm while MAE corresponds to the l1 norm.\n",
    "\n",
    "The higher the norm index the more it focuses on large values and neglects small ones. Due to this RMSE is more sensitive to outliers than MAE but works better in bell-shaped curve data.\n",
    "\n",
    "$RMSE(X,h) = \\sqrt{\\frac{1}{m}\\sum_{i=1}^{m}(h(x^{(i)}) - y^{(i)})^2}$\n",
    "\n",
    "$MAE(X,h) = \\frac{1}{m}\\sum_{i=1}^{m}|h(x^{(i)}) - y^{(i)}|$\n",
    "\n",
    "$h(x^{(i)}) = \\hat{y}^{(i)}$\n",
    "\n",
    "We can begin with RMSE and switch to MAE if we are seeing outliers."
   ]
  },
  {
   "cell_type": "markdown",
   "id": "c83e7b86",
   "metadata": {},
   "source": [
    "## Get the Data"
   ]
  },
  {
   "cell_type": "markdown",
   "id": "ec9f769d",
   "metadata": {},
   "source": [
    "## Explore the Data"
   ]
  },
  {
   "cell_type": "markdown",
   "id": "5cf852ab",
   "metadata": {},
   "source": [
    "## Prepare the Data"
   ]
  },
  {
   "cell_type": "markdown",
   "id": "cd174fa0",
   "metadata": {},
   "source": [
    "## Shortlist Promising Models"
   ]
  },
  {
   "cell_type": "markdown",
   "id": "6ce33817",
   "metadata": {},
   "source": [
    "## Fine-Tune the System"
   ]
  },
  {
   "cell_type": "markdown",
   "id": "47ef943a",
   "metadata": {},
   "source": [
    "## Present Your Solution"
   ]
  },
  {
   "cell_type": "markdown",
   "id": "ee575c46",
   "metadata": {},
   "source": [
    "## Launch"
   ]
  }
 ],
 "metadata": {
  "kernelspec": {
   "display_name": ".venv",
   "language": "python",
   "name": "python3"
  },
  "language_info": {
   "name": "python",
   "version": "3.11.5"
  }
 },
 "nbformat": 4,
 "nbformat_minor": 5
}
